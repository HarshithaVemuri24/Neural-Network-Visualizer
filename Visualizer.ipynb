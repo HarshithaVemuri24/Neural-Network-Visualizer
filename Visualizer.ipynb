{
  "nbformat": 4,
  "nbformat_minor": 0,
  "metadata": {
    "colab": {
      "provenance": []
    },
    "kernelspec": {
      "name": "python3",
      "display_name": "Python 3"
    },
    "language_info": {
      "name": "python"
    }
  },
  "cells": [
    {
      "cell_type": "code",
      "execution_count": 2,
      "metadata": {
        "id": "GRu5XAww6hUB"
      },
      "outputs": [],
      "source": [
        "import tensorflow as tf\n",
        "import tensorflow.keras.models as models\n",
        "from tensorflow.keras.datasets.mnist import load_data\n",
        "from tensorflow.keras.layers import Dense\n",
        "import numpy as np\n",
        "import matplotlib.pyplot as plt\n",
        "\n",
        "%matplotlib inline"
      ]
    },
    {
      "cell_type": "code",
      "source": [
        "from google.colab import drive\n",
        "drive.mount('/content/drive')"
      ],
      "metadata": {
        "id": "FX3GxhYRCVbA"
      },
      "execution_count": null,
      "outputs": []
    },
    {
      "cell_type": "code",
      "source": [
        "(x_train,y_train),(x_test,y_test) = load_data(path=\"mnist.npz\")"
      ],
      "metadata": {
        "colab": {
          "base_uri": "https://localhost:8080/"
        },
        "id": "CfG-Bbme7AXw",
        "outputId": "79b5045f-607a-4e28-b90f-78e16effdc87"
      },
      "execution_count": 3,
      "outputs": [
        {
          "output_type": "stream",
          "name": "stdout",
          "text": [
            "Downloading data from https://storage.googleapis.com/tensorflow/tf-keras-datasets/mnist.npz\n",
            "11490434/11490434 [==============================] - 0s 0us/step\n"
          ]
        }
      ]
    },
    {
      "cell_type": "code",
      "source": [
        "plt.figure(figsize=(10,10))\n",
        "for i in range(0,8):\n",
        "    plt.subplot(4,4,i+1)\n",
        "    plt.imshow(x_train[i],cmap='binary')\n",
        "    plt.xlabel(str(y_train[i]))\n",
        "    plt.xticks([])\n",
        "    plt.yticks([])\n",
        "plt.show()"
      ],
      "metadata": {
        "colab": {
          "base_uri": "https://localhost:8080/",
          "height": 424
        },
        "id": "fdX_ScC_7B3r",
        "outputId": "481107b6-5ac5-46cf-ddf0-9fdd15ad2703"
      },
      "execution_count": 4,
      "outputs": [
        {
          "output_type": "display_data",
          "data": {
            "text/plain": [
              "<Figure size 1000x1000 with 8 Axes>"
            ],
            "image/png": "[encoded data removed]"
          },
          "metadata": {}
        }
      ]
    },
    {
      "cell_type": "code",
      "source": [
        "x_train = np.reshape(x_train,(x_train.shape[0],28*28))\n",
        "x_test = np.reshape(x_test,(x_test.shape[0],28*28))\n",
        "\n",
        "x_train =x_train/ 255\n",
        "x_test =x_test/ 255"
      ],
      "metadata": {
        "id": "MQSbmyD67EiB"
      },
      "execution_count": 5,
      "outputs": []
    },
    {
      "cell_type": "code",
      "source": [
        "model = models.Sequential()\n",
        "model.add(Dense(32,activation='relu',input_shape=(784,)))\n",
        "model.add(Dense(32,activation='relu'))\n",
        "model.add(Dense(32,activation='relu'))\n",
        "model.add(Dense(10,activation='softmax'))\n",
        "\n",
        "model.compile(optimizer='adam', \n",
        "              loss='sparse_categorical_crossentropy',\n",
        "              metrics='accuracy')"
      ],
      "metadata": {
        "id": "Hx5qRGA17r37"
      },
      "execution_count": 6,
      "outputs": []
    },
    {
      "cell_type": "code",
      "source": [
        "_ = model.fit(x_train, y_train, \n",
        "              validation_data=(x_test,y_test),\n",
        "              epochs = 20, \n",
        "              batch_size = 2048,\n",
        "              verbose = 2,\n",
        "             )"
      ],
      "metadata": {
        "colab": {
          "base_uri": "https://localhost:8080/"
        },
        "id": "S2WTPTTp7rt6",
        "outputId": "94094835-6ffb-4984-f0ed-9ab191cb7190"
      },
      "execution_count": 7,
      "outputs": [
        {
          "output_type": "stream",
          "name": "stdout",
          "text": [
            "Epoch 1/20\n",
            "30/30 - 2s - loss: 1.8311 - accuracy: 0.3956 - val_loss: 1.2488 - val_accuracy: 0.6122 - 2s/epoch - 65ms/step\n",
            "Epoch 2/20\n",
            "30/30 - 1s - loss: 0.8408 - accuracy: 0.7762 - val_loss: 0.5103 - val_accuracy: 0.8662 - 513ms/epoch - 17ms/step\n",
            "Epoch 3/20\n",
            "30/30 - 0s - loss: 0.4310 - accuracy: 0.8806 - val_loss: 0.3564 - val_accuracy: 0.9023 - 485ms/epoch - 16ms/step\n",
            "Epoch 4/20\n",
            "30/30 - 0s - loss: 0.3359 - accuracy: 0.9058 - val_loss: 0.3043 - val_accuracy: 0.9165 - 487ms/epoch - 16ms/step\n",
            "Epoch 5/20\n",
            "30/30 - 0s - loss: 0.2912 - accuracy: 0.9181 - val_loss: 0.2712 - val_accuracy: 0.9236 - 464ms/epoch - 15ms/step\n",
            "Epoch 6/20\n",
            "30/30 - 0s - loss: 0.2613 - accuracy: 0.9260 - val_loss: 0.2452 - val_accuracy: 0.9312 - 488ms/epoch - 16ms/step\n",
            "Epoch 7/20\n",
            "30/30 - 1s - loss: 0.2408 - accuracy: 0.9320 - val_loss: 0.2335 - val_accuracy: 0.9323 - 517ms/epoch - 17ms/step\n",
            "Epoch 8/20\n",
            "30/30 - 1s - loss: 0.2203 - accuracy: 0.9377 - val_loss: 0.2149 - val_accuracy: 0.9392 - 805ms/epoch - 27ms/step\n",
            "Epoch 9/20\n",
            "30/30 - 1s - loss: 0.2046 - accuracy: 0.9417 - val_loss: 0.2046 - val_accuracy: 0.9396 - 737ms/epoch - 25ms/step\n",
            "Epoch 10/20\n",
            "30/30 - 1s - loss: 0.1912 - accuracy: 0.9462 - val_loss: 0.1939 - val_accuracy: 0.9430 - 794ms/epoch - 26ms/step\n",
            "Epoch 11/20\n",
            "30/30 - 1s - loss: 0.1809 - accuracy: 0.9483 - val_loss: 0.1870 - val_accuracy: 0.9442 - 655ms/epoch - 22ms/step\n",
            "Epoch 12/20\n",
            "30/30 - 0s - loss: 0.1723 - accuracy: 0.9507 - val_loss: 0.1791 - val_accuracy: 0.9476 - 484ms/epoch - 16ms/step\n",
            "Epoch 13/20\n",
            "30/30 - 0s - loss: 0.1640 - accuracy: 0.9530 - val_loss: 0.1711 - val_accuracy: 0.9502 - 486ms/epoch - 16ms/step\n",
            "Epoch 14/20\n",
            "30/30 - 0s - loss: 0.1562 - accuracy: 0.9545 - val_loss: 0.1666 - val_accuracy: 0.9514 - 459ms/epoch - 15ms/step\n",
            "Epoch 15/20\n",
            "30/30 - 0s - loss: 0.1492 - accuracy: 0.9573 - val_loss: 0.1613 - val_accuracy: 0.9513 - 445ms/epoch - 15ms/step\n",
            "Epoch 16/20\n",
            "30/30 - 0s - loss: 0.1424 - accuracy: 0.9593 - val_loss: 0.1584 - val_accuracy: 0.9520 - 455ms/epoch - 15ms/step\n",
            "Epoch 17/20\n",
            "30/30 - 0s - loss: 0.1369 - accuracy: 0.9605 - val_loss: 0.1544 - val_accuracy: 0.9523 - 479ms/epoch - 16ms/step\n",
            "Epoch 18/20\n",
            "30/30 - 0s - loss: 0.1321 - accuracy: 0.9621 - val_loss: 0.1499 - val_accuracy: 0.9542 - 474ms/epoch - 16ms/step\n",
            "Epoch 19/20\n",
            "30/30 - 0s - loss: 0.1281 - accuracy: 0.9632 - val_loss: 0.1472 - val_accuracy: 0.9554 - 488ms/epoch - 16ms/step\n",
            "Epoch 20/20\n",
            "30/30 - 0s - loss: 0.1226 - accuracy: 0.9646 - val_loss: 0.1459 - val_accuracy: 0.9567 - 470ms/epoch - 16ms/step\n"
          ]
        }
      ]
    },
    {
      "cell_type": "code",
      "source": [
        "model.save('model.h5')"
      ],
      "metadata": {
        "id": "Yfd31upQ7rg3"
      },
      "execution_count": 8,
      "outputs": []
    },
    {
      "cell_type": "code",
      "source": [
        "%%writefile ml_server.py\n",
        "\n",
        "import json\n",
        "import tensorflow as tf\n",
        "from tensorflow.keras.models import Model\n",
        "from tensorflow.keras.datasets.mnist import load_data\n",
        "import numpy as np\n",
        "from flask import Flask, request\n",
        "\n",
        "app = Flask(__name__)\n",
        "model = tf.keras.models.load_model('model.h5')\n",
        "feature_model = Model(model.inputs,\n",
        "                     [layer.output for layer in model.layers])\n",
        "_,(x_test,_) = load_data()\n",
        "x_test = x_test/255.\n",
        "\n",
        "def get_prediction():\n",
        "    index = np.random.choice(x_test.shape[0])\n",
        "    image = x_test[index,:,:]\n",
        "    image_arr = np.reshape(image,(1,784))\n",
        "    return feature_model.predict(image_arr),image\n",
        "    \n",
        "\n",
        "@app.route('/',methods=['GET','POST'])\n",
        "def index():\n",
        "    if request.method=='POST':\n",
        "        preds,image = get_prediction()\n",
        "        final_preds = [p.tolist() for p in preds]\n",
        "        return json.dumps({\n",
        "            'prediction':final_preds,\n",
        "            'image': image.tolist()\n",
        "        })\n",
        "    return 'welcome to the model server'\n",
        "\n",
        "\n",
        "if __name__ == '__main__':\n",
        "    app.run()"
      ],
      "metadata": {
        "colab": {
          "base_uri": "https://localhost:8080/"
        },
        "id": "IR6xjNlG7rWh",
        "outputId": "bf06a0fd-81bc-4969-a011-cd1876586cef"
      },
      "execution_count": 9,
      "outputs": [
        {
          "output_type": "stream",
          "name": "stdout",
          "text": [
            "Writing ml_server.py\n"
          ]
        }
      ]
    },
    {
      "cell_type": "code",
      "source": [
        "!pip install -q streamlit"
      ],
      "metadata": {
        "colab": {
          "base_uri": "https://localhost:8080/"
        },
        "id": "HMEHzHmAAF8Q",
        "outputId": "b6a04283-34ad-4b76-b70f-f2152156375b"
      },
      "execution_count": 17,
      "outputs": [
        {
          "output_type": "stream",
          "name": "stdout",
          "text": [
            "\u001b[2K     \u001b[90m━━━━━━━━━━━━━━━━━━━━━━━━━━━━━━━━━━━━━━━━\u001b[0m \u001b[32m8.9/8.9 MB\u001b[0m \u001b[31m43.1 MB/s\u001b[0m eta \u001b[36m0:00:00\u001b[0m\n",
            "\u001b[2K     \u001b[90m━━━━━━━━━━━━━━━━━━━━━━━━━━━━━━━━━━━━━━\u001b[0m \u001b[32m164.8/164.8 kB\u001b[0m \u001b[31m13.8 MB/s\u001b[0m eta \u001b[36m0:00:00\u001b[0m\n",
            "\u001b[?25h  Preparing metadata (setup.py) ... \u001b[?25l\u001b[?25hdone\n",
            "\u001b[2K     \u001b[90m━━━━━━━━━━━━━━━━━━━━━━━━━━━━━━━━━━━━━━\u001b[0m \u001b[32m184.3/184.3 kB\u001b[0m \u001b[31m16.4 MB/s\u001b[0m eta \u001b[36m0:00:00\u001b[0m\n",
            "\u001b[2K     \u001b[90m━━━━━━━━━━━━━━━━━━━━━━━━━━━━━━━━━━━━━━━━\u001b[0m \u001b[32m4.8/4.8 MB\u001b[0m \u001b[31m91.1 MB/s\u001b[0m eta \u001b[36m0:00:00\u001b[0m\n",
            "\u001b[2K     \u001b[90m━━━━━━━━━━━━━━━━━━━━━━━━━━━━━━━━━━━━━━━━\u001b[0m \u001b[32m82.1/82.1 kB\u001b[0m \u001b[31m8.9 MB/s\u001b[0m eta \u001b[36m0:00:00\u001b[0m\n",
            "\u001b[2K     \u001b[90m━━━━━━━━━━━━━━━━━━━━━━━━━━━━━━━━━━━━━━━━\u001b[0m \u001b[32m62.7/62.7 kB\u001b[0m \u001b[31m5.5 MB/s\u001b[0m eta \u001b[36m0:00:00\u001b[0m\n",
            "\u001b[?25h  Building wheel for validators (setup.py) ... \u001b[?25l\u001b[?25hdone\n"
          ]
        }
      ]
    },
    {
      "cell_type": "code",
      "source": [
        "%%writefile app.py\n",
        "import numpy as np\n",
        "import streamlit as st\n",
        "import requests\n",
        "import json\n",
        "import matplotlib.pyplot as plt\n",
        "\n",
        "\n",
        "URI = \"http://127.0.0.1:5000/\"\n",
        "\n",
        "st.title(\"Neural Network Visualizer\")\n",
        "st.sidebar.markdown(\"Input Image\")\n",
        "\n",
        "if st.button('Get random prediction'):\n",
        "    response = requests.post(URI,data={})\n",
        "    response = json.loads(response.text)\n",
        "    preds = response.get('prediction')\n",
        "    image = response.get('image')\n",
        "    image = np.reshape(image,(28,28))\n",
        "    \n",
        "    st.sidebar.image(image,width=150)\n",
        "    \n",
        "    for layer,p in enumerate(preds):\n",
        "        numbers = np.squeeze(np.array(p))\n",
        "        plt.figure(figsize=(32,4))\n",
        "        if layer == 3:\n",
        "            row = 1\n",
        "            col = 10 \n",
        "        else:\n",
        "            row = 2 \n",
        "            col = 16\n",
        "        for i,number in enumerate(numbers):\n",
        "            plt.subplot(row,col,i+1)\n",
        "            plt.imshow(number*np.ones((8,8,3)).astype('float32'))\n",
        "            plt.xticks([])\n",
        "            plt.yticks([])\n",
        "            \n",
        "            if layer ==3:\n",
        "                plt.xlabel(str(i),fontsize=40)\n",
        "        plt.subplots_adjust(wspace=0.05, hspace=0.05, )\n",
        "        plt.tight_layout()\n",
        "        st.text('Layer{}'.format(layer))\n",
        "        st.pyplot()"
      ],
      "metadata": {
        "colab": {
          "base_uri": "https://localhost:8080/"
        },
        "id": "1y6ggmXG7rHl",
        "outputId": "6846b760-7bcc-401d-9014-856151366a22"
      },
      "execution_count": 10,
      "outputs": [
        {
          "output_type": "stream",
          "name": "stdout",
          "text": [
            "Writing app.py\n"
          ]
        }
      ]
    }
  ]
}